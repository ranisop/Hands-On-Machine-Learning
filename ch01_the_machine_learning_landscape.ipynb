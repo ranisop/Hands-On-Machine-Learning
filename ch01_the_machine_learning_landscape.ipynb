{
 "cells": [
  {
   "cell_type": "markdown",
   "metadata": {},
   "source": [
    "# 1장. 한눈에 보는 머신러닝"
   ]
  },
  {
   "cell_type": "markdown",
   "metadata": {},
   "source": [
    "머신러닝(Machine Learning)\n",
    "> - 데이터로부터 학습하도록 컴퓨터를 프로그래밍하는 과학(또는 예술)이다.<br>\n",
    "> - 명시적인 프로그래밍 없이 컴퓨터가 학습하는 능력을 갖추게 하는 연구 분야이다. _-아서 사무엘(Arthur Samuel), 1959_<br>\n",
    "> - 어떤 작업 T에 대한 컴퓨터 프로그램의 성능을 P로 측정했을 때 경험 E로 인해 성능이 향상됐다면, 이 컴퓨터 프로그램은 작업 T와 성능 측정 P에 대해 경험 E로 학습한 것이다. _- 톰 미첼(Tom Mitchell), 1997_<br>\n",
    "\n",
    "데이터마이닝(data mining)\n",
    "> 머신러닝 기술을 적용해서 대용량의 데이터를 분석하면 겉으로는 보이지 않던 패턴을 발결할 수 있다."
   ]
  },
  {
   "cell_type": "markdown",
   "metadata": {},
   "source": [
    "## 1.3. 머신러닝 시스템의 종류\n",
    "> - 사람의 감독 하에 훈련하는 것인지 그렇지 않은 것인지(지도, 비지도, 준지도, 강화 학습)<br>\n",
    "> - 실시간으로 점진적인 학습을 하는지 아닌지(온라인 학습과 배치 학습)<br>\n",
    "> - 단순하게 알고 있는 데이터 포인트와 새 데이터 포인트를 비교하는 것인지 아니면 훈련 데이터셋에서 과학자들처럼 패턴을 발견하여 예측 모델을 만드는지(사례 기반 학습과 모델 기반 학습)<br>"
   ]
  },
  {
   "cell_type": "markdown",
   "metadata": {},
   "source": [
    "### 1.3.1. 지도 학습과 비지도 학습\n",
    "머신러닝 시스템을 '학습하는 동안의 감독 형태나 정보량'에 따라 분류할 수 있다.\n",
    "\n",
    "- 지도 학습(supervised learning)\n",
    "> + 지도 학습에는 알고리즘에 주입하는 훈련 데이터에 __레이블(label)__ 이라는 원하는 답이 포함된다.\n",
    "> + __분류(classification)__ 가 전형적인 지도 학습 작업이며, 스팸 필터가 좋은 예이다.\n",
    "> + 또 다른 전형적인 작업은 예측 변수(predictor variable)라 부르는 특성(feature, _주행거리, 연식, 브랜드 등_)을 사용해 중고차 가격 같은 타깃 수치를 예측하는 것이다. 이런 종류의 작업을 __회귀(regression)__ 라고 부른다.\n",
    "> + 지도 학습 알고리즘\n",
    ">> k-최근접 이웃(k-Nearest Neighbors) <br> 선형 회귀(Linear Regression) <br> 로지스틱 회귀(Logistic Regression) <br> 서포트 벡터 머신(Support Vector Machines, SVM) <br> 결정 트리(Decision Tree)와 랜덤 포레스트(Random Forests) <br> 신경망(Neural networks)\n",
    "\n",
    "- 비지도 학습(unsupervised learning)\n",
    "> + 훈련 데이터에 레이블이 없다. 시스템이 아무런 도움 없이 학습해야 한다.\n",
    "> + 비지도 학습 알고리즘\n",
    ">> + 군집(clustering)\n",
    ">>> k-평균(k-Means) <br> 계층 군집 분석(Hierarchical Cluster Analysis, HCA) <br> 기댓값 최대화(Expectaion Maximization)\n",
    ">> + 시각화(visualization)와 차원 축소(dimensionality reduction)\n",
    ">>> 주성분 분석(Principal Component Analysis, PCA) <br> 커널(kernel) PCA <br> 지역적 선형 임베딩(Locally-Linear Embedding) <br> t-SNE(t-distributed Stochastic Neighbor Embedding)\n",
    ">> + 연관 규칙 학습(Association rule learning)\n",
    ">>> 어프라이어리(Apriori) <br> 이클렛(Eclat)\n",
    ">> + 계층 군집(hierarchical clustering) : 각 그룹을 더 작은 그룹으로 세분화할 수 있다.\n",
    ">> + 시각화(visualization) : 레이블이 없는 대규모의 고차원 데이터를 넣으면 도식화가 가능한 2D나 3D 표현을 만들어준다.\n",
    ">> + 차원 축소(dimensionality reduction) : 너무 많은 정보를 잃지 않으면서 데이터를 간소화 할 수 있다.\n",
    ">> + 특성 추출(feature extraction) : 상관관계가 있는 여러 특성을 하나로 합치는 것이다.\n",
    ">> + 이상치 탐지(anomaly detection)\n",
    ">> + 연관 규칙 학습(association reule learnig) : 대량의 데이터에서 특성 간의 흥미로운 관계를 찾는다.\n",
    "\n",
    "- 준지도 학습(semisupervsed learning)\n",
    "> + 보통은 레이블이 없는 데이터가 많고 레이블이 있는 데이터는 아주 조금이다.(예: 구글 포토 호스팅 서비스)\n",
    "> + 대부분의 준지도 학습 알고리즘은 지도 학습과 비지도 학습의 조합으로 이루어져 있다. <br> 예를 들어 __심층 신뢰 신경망(deep belief network, DBN)__ 은 여러 겹으로 쌓은 __제한된 볼츠만 머신(restricted Boltzmann machine, RBM)__ 이라 불리는 비지도 학습에 기초한다. RBM이 비지도 학습 방식으로 순차적으로 훈련된 다음 전체 시스템이 지도 학습 방식으로 세밀하게 조정된다.\n",
    "\n",
    "- 강화 학습(Reinforcement Learning)\n",
    "> + 학습하는 시스템을 에이전트라고 부르며 환경(environment)을 관찰해서 행동(action)을 실행하고 그 결과로 보상(reward) 또는 부정적인 보상에 해당하는 벌점(penalty)를 받는다. 시간이 지나면서 가장 큰 보상을 얻기 위해 정책(policy)이라고 부르는 최상의 전략을 스스로 학습한다. 정책은 주어진 상황에서 에이전트가 어떤 행동을 선택해야 할지 정의\n",
    "한다."
   ]
  },
  {
   "cell_type": "markdown",
   "metadata": {},
   "source": [
    "### 1.3.2. 배치 학습과 온라인 학습\n",
    "머신러닝 시스템을 분류하는데 사용하는 다른 기준은 입력 데이터의 스트림(stream)으로부터 점진적으로 학습할 수 있는지 여부이다.\n",
    "\n",
    "- 배치 학습(batch learning), 오프라인 학습(offline learning)\n",
    "> + 배치 학습에서는 시스템이 점진적으로 학습할 수 없고, 가용한 데이터를 모두 사용해 훈련시켜야 한다.\n",
    "> + 시간과 자원을 많이 소모하므로 보통 오프라인에서 수행된다.\n",
    "> + 먼저 시스템을 훈련시키고 그런 다음 제품 시스템에 적용하면 더 이상의 학습없이 실행된다. 즉, 학습한 것을 단지 적용만 한다.\n",
    "\n",
    "- 온라인 학습(online learning)\n",
    "> + 데이터를 순차적으로 한 개씩 또는 미니배치(mini-batch)라 부르는 작은 묶음 단위로 주입하여 시스템을 훈련시킨다.\n",
    "> + 매 학습 단곅 빠르고 비용이 적게 들어 시스템은 데이터가 도착하는 대로 즉시 학습할 수 있다.\n",
    "> + 온라인 학습 시스템에서 중요한 파라미터 하나는 변화하는 데이터에 얼마나 빠르게 적응할 것인지이다. 이를 학습률(learning rate)이라 한다. <br> 학습률을 높게 하면 시스템이 데이터에 빠르게 적응하지만 예전 데이터를 금방 잊어버리고, 학습률이 낮으면 시스템의 관성이 더 커져서 더 느리게 학습하지만 새로운 데이터에 있는 잡음이나 대표성 없는 데이터 포인트에 덜 민감해진다."
   ]
  },
  {
   "cell_type": "markdown",
   "metadata": {},
   "source": [
    "### 1.3.3. 사례 기반 학습과 모델 기반 학습\n",
    "머신러닝 시스템은 어떻게 __일반화__ 되는가에 따라 분류할 수도 있다. <br> 대부분의 머신러닝 작업은 예측을 만드는 것이다. 이 말은 주어진 훈련 데이터로 학습하지만 훈련 데이터에서는 본적 없는 새로운 데이터로 일반화되어야 한다는 뜻이다. <br> 진짜 목표는 새로운 샘플에 잘 작동하는 모델이다.\n",
    "\n",
    "- 사례 기반 학습(instance-based learning)\n",
    "> + 시스템이 사례를 기억함으로써 학습하고, 유사도(similarity) 측정을 사용해 새로운 데이터에 일반화한다.\n",
    "\n",
    "- 모델 기반 학습(model-based learning)\n",
    "> + 샘플들의 모델을 만들어 예측에 사용한다."
   ]
  },
  {
   "cell_type": "code",
   "execution_count": 17,
   "metadata": {},
   "outputs": [],
   "source": [
    "def prepare_country_stats(oecd_bli, gdp_per_capita):\n",
    "    oecd_bli = oecd_bli[oecd_bli[\"INEQUALITY\"]==\"TOT\"]\n",
    "    oecd_bli = oecd_bli.pivot(index=\"Country\", columns=\"Indicator\", values=\"Value\")\n",
    "    gdp_per_capita.rename(columns={\"2015\": \"GDP per capita\"}, inplace=True)\n",
    "    gdp_per_capita.set_index(\"Country\", inplace=True)\n",
    "    full_country_stats = pd.merge(left=oecd_bli, right=gdp_per_capita,\n",
    "                                  left_index=True, right_index=True)\n",
    "    full_country_stats.sort_values(by=\"GDP per capita\", inplace=True)\n",
    "    remove_indices = [0, 1, 6, 8, 33, 34, 35]\n",
    "    keep_indices = list(set(range(36)) - set(remove_indices))\n",
    "    return full_country_stats[[\"GDP per capita\", 'Life satisfaction']].iloc[keep_indices]"
   ]
  },
  {
   "cell_type": "code",
   "execution_count": 18,
   "metadata": {},
   "outputs": [],
   "source": [
    "import os\n",
    "datapath = os.path.join(\"datasets\", \"\")"
   ]
  },
  {
   "cell_type": "code",
   "execution_count": 20,
   "metadata": {},
   "outputs": [
    {
     "data": {
      "image/png": "[encoded data removed]",
      "text/plain": [
       "<Figure size 432x288 with 1 Axes>"
      ]
     },
     "metadata": {
      "needs_background": "light"
     },
     "output_type": "display_data"
    },
    {
     "name": "stdout",
     "output_type": "stream",
     "text": [
      "[[5.96242338]]\n"
     ]
    }
   ],
   "source": [
    "import matplotlib\n",
    "import matplotlib.pyplot as plt\n",
    "import numpy as np\n",
    "import pandas as pd\n",
    "import sklearn.linear_model\n",
    "\n",
    "# 데이터 적재\n",
    "oecd_bli = pd.read_csv(datapath + 'oecd_bli_2015.csv', thousands=',')\n",
    "gdp_per_capita = pd.read_csv(datapath + 'gdp_per_capita.csv', thousands=',', delimiter='\\t', \n",
    "                             encoding='latin1', na_values='n/a')\n",
    "\n",
    "# 데이터 준비\n",
    "country_stats = prepare_country_stats(oecd_bli, gdp_per_capita)\n",
    "X = np.c_[country_stats['GDP per capita']]\n",
    "y = np.c_[country_stats['Life satisfaction']]\n",
    "\n",
    "# 데이터 시각화\n",
    "country_stats.plot(kind='scatter', x='GDP per capita', y='Life satisfaction')\n",
    "plt.show()\n",
    "\n",
    "# 선형 모델 선택\n",
    "model = sklearn.linear_model.LinearRegression()  \n",
    "\n",
    "# 모델 훈련\n",
    "model.fit(X, y)\n",
    "\n",
    "# 키프로스에 대한 예측\n",
    "X_new = [[22587]]\n",
    "print(model.predict(X_new))"
   ]
  },
  {
   "cell_type": "code",
   "execution_count": 21,
   "metadata": {},
   "outputs": [
    {
     "data": {
      "image/png": "[encoded data removed]",
      "text/plain": [
       "<Figure size 432x288 with 1 Axes>"
      ]
     },
     "metadata": {
      "needs_background": "light"
     },
     "output_type": "display_data"
    },
    {
     "name": "stdout",
     "output_type": "stream",
     "text": [
      "[[5.76666667]]\n"
     ]
    }
   ],
   "source": [
    "import matplotlib\n",
    "import matplotlib.pyplot as plt\n",
    "import numpy as np\n",
    "import pandas as pd\n",
    "import sklearn.linear_model\n",
    "\n",
    "# 데이터 적재\n",
    "oecd_bli = pd.read_csv(datapath + 'oecd_bli_2015.csv', thousands=',')\n",
    "gdp_per_capita = pd.read_csv(datapath + 'gdp_per_capita.csv', thousands=',', delimiter='\\t', \n",
    "                             encoding='latin1', na_values='n/a')\n",
    "\n",
    "# 데이터 준비\n",
    "country_stats = prepare_country_stats(oecd_bli, gdp_per_capita)\n",
    "X = np.c_[country_stats['GDP per capita']]\n",
    "y = np.c_[country_stats['Life satisfaction']]\n",
    "\n",
    "# 데이터 시각화\n",
    "country_stats.plot(kind='scatter', x='GDP per capita', y='Life satisfaction')\n",
    "plt.show()\n",
    "\n",
    "# k-최근접 이웃 회귀로 변경\n",
    "model = sklearn.neighbors.KNeighborsRegressor(n_neighbors=3)\n",
    "\n",
    "# 모델 훈련\n",
    "model.fit(X, y)\n",
    "\n",
    "# 키프로스에 대한 예측\n",
    "X_new = [[22587]]\n",
    "print(model.predict(X_new))"
   ]
  },
  {
   "cell_type": "markdown",
   "metadata": {},
   "source": [
    "+ 데이터를 분석한다.\n",
    "+ 모델을 선택한다.\n",
    "+ 훈련 데이터로 모델을 훈련시킨다.(즉, 학습 알고리즘이 비용 함수를 최소화하는 모델 파라미터를 찾는다.)\n",
    "+ 마지막으로 새로운 데이터에 모델을 적용해 예측을 하고(이를 추론(inference)이라고 함), 이 모델이 잘 일반화되길 기대한다."
   ]
  },
  {
   "cell_type": "code",
   "execution_count": null,
   "metadata": {},
   "outputs": [],
   "source": []
  }
 ],
 "metadata": {
  "kernelspec": {
   "display_name": "Python 3",
   "language": "python",
   "name": "python3"
  },
  "language_info": {
   "codemirror_mode": {
    "name": "ipython",
    "version": 3
   },
   "file_extension": ".py",
   "mimetype": "text/x-python",
   "name": "python",
   "nbconvert_exporter": "python",
   "pygments_lexer": "ipython3",
   "version": "3.7.3"
  }
 },
 "nbformat": 4,
 "nbformat_minor": 2
}
